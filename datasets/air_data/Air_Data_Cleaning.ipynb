{
 "cells": [
  {
   "cell_type": "code",
   "execution_count": 1,
   "id": "25433f9d-cad3-4dc6-9f99-102b0ea7edae",
   "metadata": {},
   "outputs": [],
   "source": [
    "import pandas as pd\n",
    "import numpy as np"
   ]
  },
  {
   "cell_type": "code",
   "execution_count": 3,
   "id": "9d98f7d6-8337-430c-a095-11cb1ac3d7f0",
   "metadata": {},
   "outputs": [],
   "source": [
    "import pandas as pd\n",
    "\n",
    "file = \"GCB2022v27_MtCO2_flat.csv\"\n",
    "code_file = \"codes.csv\"\n",
    "# Load the CSV file\n",
    "df = pd.read_csv(file)\n",
    "\n",
    "# Renaming coulums for easier transfer to Database\n",
    "df = df.rename(columns={df.columns[1]: 'Country_Code'})\n",
    "df = df.rename(columns={df.columns[10]: 'Per_Capita'})\n",
    "\n",
    "# Cleaning up the data by removing the years that contains no data by the total amount of emmissons.\n",
    "if \"Total\" in df.columns:  \n",
    "    garbage_data = df[df[\"Total\"] == 0].index\n",
    "    df.drop(garbage_data, inplace=True)\n",
    "\n",
    "# Replace NaN values with 0\n",
    "df.fillna(0, inplace=True)\n",
    "\n",
    "\n",
    "df.to_csv('air_super.csv', index=False)\n"
   ]
  },
  {
   "cell_type": "code",
   "execution_count": 11,
   "id": "0a8d6ab1-fc3d-4e91-8f80-621fc4c41081",
   "metadata": {},
   "outputs": [
    {
     "name": "stdout",
     "output_type": "stream",
     "text": [
      "<class 'pandas.core.frame.DataFrame'>\n",
      "Index: 21897 entries, 199 to 63103\n",
      "Data columns (total 11 columns):\n",
      " #   Column        Non-Null Count  Dtype  \n",
      "---  ------        --------------  -----  \n",
      " 0   Country       21897 non-null  object \n",
      " 1   Country_Code  21897 non-null  object \n",
      " 2   Year          21897 non-null  int64  \n",
      " 3   Total         21897 non-null  float64\n",
      " 4   Coal          21897 non-null  float64\n",
      " 5   Oil           21897 non-null  float64\n",
      " 6   Gas           21897 non-null  float64\n",
      " 7   Cement        21897 non-null  float64\n",
      " 8   Flaring       21897 non-null  float64\n",
      " 9   Other         21897 non-null  float64\n",
      " 10  Per_Capita    21897 non-null  float64\n",
      "dtypes: float64(8), int64(1), object(2)\n",
      "memory usage: 2.0+ MB\n"
     ]
    }
   ],
   "source": [
    "# Looking at the dtypes of the csv file and dataset.\n",
    "df.info()"
   ]
  },
  {
   "cell_type": "code",
   "execution_count": 13,
   "id": "ad1f5270-e72d-4757-8bcd-be67a9f7a76e",
   "metadata": {},
   "outputs": [],
   "source": [
    "import pandas as pd\n",
    "\n",
    "# Load the CSV files\n",
    "df1 = pd.read_csv(code_file)  # This contains the country codes\n",
    "df2 = pd.read_csv('air_super.csv')  # This contains the emissions data\n",
    "\n",
    "# Merge the dataframes based on the 'name' column in df1 and 'Country' column in df2\n",
    "df2 = pd.merge(df2, df1[['name', 'country-code']], left_on='Country', right_on='name', how='left')\n",
    "\n",
    "# Save the updated DataFrame to a new CSV\n",
    "df2.to_csv('air_super_with_codes.csv', index=False)\n"
   ]
  },
  {
   "cell_type": "code",
   "execution_count": 15,
   "id": "33ad2d9c-6d97-4e3a-bb1e-edcc80cf5fcc",
   "metadata": {},
   "outputs": [
    {
     "name": "stdout",
     "output_type": "stream",
     "text": [
      "                                 Country  country-code  Year\n",
      "2462   Bonaire, Saint Eustatius and Saba           NaN  2020\n",
      "2819              British Virgin Islands           NaN  2020\n",
      "3561                          Cape Verde           NaN  2020\n",
      "4895                      Czech Republic           NaN  2020\n",
      "5008                         North Korea           NaN  2020\n",
      "5110    Democratic Republic of the Congo           NaN  2020\n",
      "6220                      Faeroe Islands           NaN  2020\n",
      "6250    Micronesia (Federated States of)           NaN  2020\n",
      "9235                                Iran           NaN  2020\n",
      "10104                             Kosovo           NaN  2020\n",
      "10416                               Laos           NaN  2020\n",
      "13078                        Netherlands           NaN  2020\n",
      "13818     Occupied Palestinian Territory           NaN  2020\n",
      "14581                            Bolivia           NaN  2020\n",
      "15214                        South Korea           NaN  2020\n",
      "15384                            Moldova           NaN  2020\n",
      "15934                             Russia           NaN  2020\n",
      "16069                       Saint Helena           NaN  2020\n",
      "18039                          Swaziland           NaN  2020\n",
      "18478                              Syria           NaN  2020\n",
      "18604                             Taiwan           NaN  2020\n",
      "19390                             Turkey           NaN  2020\n",
      "20201                     United Kingdom           NaN  2020\n",
      "20273                           Tanzania           NaN  2020\n",
      "20495                                USA           NaN  2020\n",
      "20926                          Venezuela           NaN  2020\n",
      "21088          Wallis and Futuna Islands           NaN  2020\n",
      "21623            International Transport           NaN  2020\n",
      "21895                             Global           NaN  2020\n"
     ]
    }
   ],
   "source": [
    "import pandas as pd\n",
    "\n",
    "# Load the newly created file with country codes\n",
    "df = pd.read_csv('air_super_with_codes.csv')\n",
    "\n",
    "# Filter the data for the year 2020\n",
    "df_2020 = df[df['Year'] == 2020]\n",
    "\n",
    "# Check for NaN values in the 'country-code' column for the year 2020\n",
    "countries_with_nan_2020 = df_2020[df_2020['country-code'].isna()]\n",
    "\n",
    "# Display the rows with NaN values in the 'country-code' column for 2020\n",
    "print(countries_with_nan_2020[['Country', 'country-code', 'Year']])\n"
   ]
  },
  {
   "cell_type": "code",
   "execution_count": 21,
   "id": "db1c7929-d213-4312-b3f9-188bea366ade",
   "metadata": {},
   "outputs": [
    {
     "name": "stdout",
     "output_type": "stream",
     "text": [
      "       country-code  Year\n",
      "2369            630  1926\n",
      "2370            630  1927\n",
      "2371            630  1928\n",
      "2372            630  1929\n",
      "2373            630  1930\n",
      "...             ...   ...\n",
      "21085           876  2017\n",
      "21086           876  2018\n",
      "21087           876  2019\n",
      "21088           876  2020\n",
      "21089           876  2021\n",
      "\n",
      "[2849 rows x 2 columns]\n"
     ]
    }
   ],
   "source": [
    "import pandas as pd\n",
    "\n",
    "# Dictionary with countries and their corresponding numeric country codes\n",
    "country_code_dict = {\n",
    "    \"Bonaire, Saint Eustatius and Saba\": 630,\n",
    "    \"British Virgin Islands\": 92,\n",
    "    \"Cape Verde\": 132,\n",
    "    \"Czech Republic\": 203,\n",
    "    \"North Korea\": 408,\n",
    "    \"Democratic Republic of the Congo\": 180,\n",
    "    \"Faeroe Islands\": 234,\n",
    "    \"Micronesia (Federated States of)\": 583,\n",
    "    \"Iran\": 364,\n",
    "    \"Kosovo\": 383,  # Non-ISO country code\n",
    "    \"Laos\": 418,\n",
    "    \"Netherlands\": 528,\n",
    "    \"Occupied Palestinian Territory\": 275,\n",
    "    \"Bolivia\": 68,\n",
    "    \"South Korea\": 410,\n",
    "    \"Moldova\": 498,\n",
    "    \"Russia\": 643,\n",
    "    \"Saint Helena\": 654,\n",
    "    \"Swaziland\": 748,  # Swaziland is now Eswatini\n",
    "    \"Syria\": 760,\n",
    "    \"Taiwan\": 158,\n",
    "    \"Turkey\": 792,\n",
    "    \"United Kingdom\": 826,\n",
    "    \"Tanzania\": 834,\n",
    "    \"USA\": 840,\n",
    "    \"Venezuela\": 862,\n",
    "    \"Wallis and Futuna Islands\": 876\n",
    "}\n",
    "\n",
    "# Load the DataFrame from the file\n",
    "df = pd.read_csv('air_super_with_codes.csv')\n",
    "\n",
    "# Update the 'country-code' column using the dictionary (applies to all years)\n",
    "df['country-code'] = df['Country'].map(country_code_dict).fillna(df['country-code'])\n",
    "\n",
    "# Convert 'country-code' column to integers (nullable Int64 for safety)\n",
    "df['country-code'] = df['country-code'].astype('Int64')\n",
    "\n",
    "# Drop the 'name' column\n",
    "df = df.drop(columns=['name'])\n",
    "\n",
    "# Save the updated DataFrame to a new CSV file\n",
    "df.to_csv('air_super_with_codes_updated.csv', index=False)\n",
    "\n",
    "# Display the updated rows where 'country-code' was previously NaN\n",
    "print(df[df['Country'].isin(country_code_dict.keys())][['country-code', 'Year']])\n"
   ]
  },
  {
   "cell_type": "code",
   "execution_count": 23,
   "id": "635366a7-3bdd-4ba0-a9bf-dfc033b1318f",
   "metadata": {},
   "outputs": [
    {
     "name": "stdout",
     "output_type": "stream",
     "text": [
      "<class 'pandas.core.frame.DataFrame'>\n",
      "RangeIndex: 21897 entries, 0 to 21896\n",
      "Data columns (total 12 columns):\n",
      " #   Column        Non-Null Count  Dtype  \n",
      "---  ------        --------------  -----  \n",
      " 0   Country       21897 non-null  object \n",
      " 1   Country_Code  21897 non-null  object \n",
      " 2   Year          21897 non-null  int64  \n",
      " 3   Total         21897 non-null  float64\n",
      " 4   Coal          21897 non-null  float64\n",
      " 5   Oil           21897 non-null  float64\n",
      " 6   Gas           21897 non-null  float64\n",
      " 7   Cement        21897 non-null  float64\n",
      " 8   Flaring       21897 non-null  float64\n",
      " 9   Other         21897 non-null  float64\n",
      " 10  Per_Capita    21897 non-null  float64\n",
      " 11  country-code  21215 non-null  Int64  \n",
      "dtypes: Int64(1), float64(8), int64(1), object(2)\n",
      "memory usage: 2.0+ MB\n"
     ]
    }
   ],
   "source": [
    "df.info()"
   ]
  }
 ],
 "metadata": {
  "kernelspec": {
   "display_name": "Python 3 (ipykernel)",
   "language": "python",
   "name": "python3"
  },
  "language_info": {
   "codemirror_mode": {
    "name": "ipython",
    "version": 3
   },
   "file_extension": ".py",
   "mimetype": "text/x-python",
   "name": "python",
   "nbconvert_exporter": "python",
   "pygments_lexer": "ipython3",
   "version": "3.11.5"
  }
 },
 "nbformat": 4,
 "nbformat_minor": 5
}
