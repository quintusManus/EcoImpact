{
 "cells": [
  {
   "cell_type": "code",
   "execution_count": null,
   "id": "dbdad0b6",
   "metadata": {},
   "outputs": [],
   "source": [
    "# ✅ Install dependencies if needed\n",
    "!pip install sqlalchemy psycopg2-binary"
   ]
  },
  {
   "cell_type": "code",
   "execution_count": null,
   "id": "bb1d5a3d",
   "metadata": {},
   "outputs": [],
   "source": [
    "# 🔌 Connect to PostgreSQL\n",
    "from sqlalchemy import create_engine, text\n",
    "\n",
    "# 👉 Edit these for your environment\n",
    "DB_USER = \"postgres\"\n",
    "DB_PASS = \"your_password\"\n",
    "DB_HOST = \"localhost\"\n",
    "DB_PORT = \"5432\"\n",
    "DB_NAME = \"ecoimpact\"\n",
    "\n",
    "DATABASE_URL = f\"postgresql://{DB_USER}:{DB_PASS}@{DB_HOST}:{DB_PORT}/{DB_NAME}\"\n",
    "engine = create_engine(DATABASE_URL)"
   ]
  },
  {
   "cell_type": "code",
   "execution_count": null,
   "id": "647dd00c",
   "metadata": {},
   "outputs": [],
   "source": [
    "# 🧼 Load and execute cleaned SQL dump\n",
    "sql_path = \"ecoimpact_dump.sql\"\n",
    "\n",
    "with open(sql_path, \"r\", encoding=\"utf-8\") as file:\n",
    "    lines = file.readlines()\n",
    "\n",
    "valid_sql = []\n",
    "in_copy_block = False\n",
    "\n",
    "for line in lines:\n",
    "    stripped = line.strip()\n",
    "    if stripped.lower().startswith(\"copy \") and \"from stdin\" in stripped.lower():\n",
    "        in_copy_block = True\n",
    "        continue\n",
    "    if stripped == \"\\\\.\":\n",
    "        in_copy_block = False\n",
    "        continue\n",
    "    if in_copy_block:\n",
    "        continue\n",
    "    if (\n",
    "        not stripped\n",
    "        or stripped.startswith(\"--\")\n",
    "        or any(stripped.startswith(prefix) for prefix in (\"Name:\", \"Type:\", \"Schema:\", \"Owner:\"))\n",
    "    ):\n",
    "        continue\n",
    "    valid_sql.append(line)\n",
    "\n",
    "sql_cleaned = \"\".join(valid_sql)\n",
    "\n",
    "with engine.connect() as conn:\n",
    "    for statement in sql_cleaned.split(\";\"):\n",
    "        stmt = statement.strip()\n",
    "        if stmt:\n",
    "            try:\n",
    "                conn.execute(text(stmt + \";\"))\n",
    "            except Exception as e:\n",
    "                print(f\"⚠️ Skipped: {e}\")\n",
    "    conn.commit()\n",
    "\n",
    "print(\"✅ Cleaned SQL schema loaded!\")"
   ]
  },
  {
   "cell_type": "code",
   "execution_count": null,
   "id": "51295496",
   "metadata": {},
   "outputs": [],
   "source": [
    "# ✅ Verify tables\n",
    "import pandas as pd\n",
    "\n",
    "tables = pd.read_sql(\"SELECT table_name FROM information_schema.tables WHERE table_schema='public';\", engine)\n",
    "tables"
   ]
  }
 ],
 "metadata": {
  "language_info": {
   "name": "python"
  }
 },
 "nbformat": 4,
 "nbformat_minor": 5
}
