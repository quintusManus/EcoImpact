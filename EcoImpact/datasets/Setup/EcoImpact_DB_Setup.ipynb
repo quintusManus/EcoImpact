{
 "cells": [
  {
   "cell_type": "markdown",
   "id": "83e29420",
   "metadata": {},
   "source": [
    "# 📦 EcoImpact Database Setup Notebook\n",
    "This notebook recreates the PostgreSQL database using the provided SQL dump (`ecoimpact_dump.sql`)."
   ]
  },
  {
   "cell_type": "code",
   "execution_count": null,
   "id": "95215008",
   "metadata": {},
   "outputs": [],
   "source": [
    "# ✅ Install dependencies if needed\n",
    "!pip install sqlalchemy psycopg2-binary\n"
   ]
  },
  {
   "cell_type": "code",
   "execution_count": null,
   "id": "93151771",
   "metadata": {},
   "outputs": [],
   "source": [
    "# 🔌 Connect to PostgreSQL\n",
    "from sqlalchemy import create_engine, text\n",
    "\n",
    "# 👉 Edit these for your environment, especially the password\n",
    "DB_USER = \"postgres\"\n",
    "DB_PASS = \"your_password\"\n",
    "DB_HOST = \"localhost\"\n",
    "DB_PORT = \"5432\"\n",
    "DB_NAME = \"ecoimpact\"\n",
    "\n",
    "DATABASE_URL = f\"postgresql://{DB_USER}:{DB_PASS}@{DB_HOST}:{DB_PORT}/{DB_NAME}\"\n",
    "engine = create_engine(DATABASE_URL)\n"
   ]
  },
  {
   "cell_type": "code",
   "execution_count": null,
   "id": "4eb080e1",
   "metadata": {},
   "outputs": [],
   "source": [
    "# 📥 Load and execute SQL dump\n",
    "sql_path = \"ecoimpact_dump.sql\"  # Make sure the file is in the same directory\n",
    "\n",
    "with open(sql_path, \"r\", encoding=\"utf-8\") as file:\n",
    "    dump_sql = file.read()\n",
    "\n",
    "with engine.connect() as conn:\n",
    "    for statement in dump_sql.split(\";\"):\n",
    "        stmt = statement.strip()\n",
    "        if stmt:\n",
    "            try:\n",
    "                conn.execute(text(stmt + \";\"))\n",
    "            except Exception as e:\n",
    "                print(f\"Skipped statement due to error: {e}\")\n",
    "    conn.commit()\n",
    "print(\"✅ Database recreated successfully!\")\n"
   ]
  },
  {
   "cell_type": "code",
   "execution_count": null,
   "id": "77bc50a7",
   "metadata": {},
   "outputs": [],
   "source": [
    "# ✅ Verify tables\n",
    "import pandas as pd\n",
    "\n",
    "tables = pd.read_sql(\"SELECT table_name FROM information_schema.tables WHERE table_schema='public';\", engine)\n",
    "tables\n"
   ]
  }
 ],
 "metadata": {
  "language_info": {
   "name": "python"
  }
 },
 "nbformat": 4,
 "nbformat_minor": 5
}
