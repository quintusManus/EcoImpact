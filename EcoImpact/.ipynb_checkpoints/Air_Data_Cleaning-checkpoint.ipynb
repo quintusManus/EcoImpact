{
 "cells": [
  {
   "cell_type": "code",
   "execution_count": 11,
   "id": "25433f9d-cad3-4dc6-9f99-102b0ea7edae",
   "metadata": {},
   "outputs": [],
   "source": [
    "import pandas as pd\n",
    "import numpy as np"
   ]
  },
  {
   "cell_type": "code",
   "execution_count": 92,
   "id": "9d98f7d6-8337-430c-a095-11cb1ac3d7f0",
   "metadata": {},
   "outputs": [],
   "source": [
    "import pandas as pd\n",
    "\n",
    "file = \"GCB2022v27_MtCO2_flat.csv\"\n",
    "\n",
    "# Load the CSV file\n",
    "df = pd.read_csv(file)\n",
    "\n",
    "# Renaming coulums for easier transfer to Database\n",
    "df = df.rename(columns={df.columns[1]: 'Country_Code'})\n",
    "df = df.rename(columns={df.columns[10]: 'Per_Capita'})\n",
    "\n",
    "# Cleaning up the data by removing the years that contains no data by the total amount of emmissons.\n",
    "if \"Total\" in df.columns:  \n",
    "    garbage_data = df[df[\"Total\"] == 0].index\n",
    "    df.drop(garbage_data, inplace=True)\n",
    "\n",
    "# Replace NaN values with 0\n",
    "df.fillna(0, inplace=True)\n",
    "\n",
    "\n",
    "df.to_csv('air_super.csv', index=False)\n"
   ]
  },
  {
   "cell_type": "code",
   "execution_count": 94,
   "id": "0a8d6ab1-fc3d-4e91-8f80-621fc4c41081",
   "metadata": {},
   "outputs": [
    {
     "name": "stdout",
     "output_type": "stream",
     "text": [
      "<class 'pandas.core.frame.DataFrame'>\n",
      "Index: 21897 entries, 199 to 63103\n",
      "Data columns (total 11 columns):\n",
      " #   Column        Non-Null Count  Dtype  \n",
      "---  ------        --------------  -----  \n",
      " 0   Country       21897 non-null  object \n",
      " 1   Country_Code  21897 non-null  object \n",
      " 2   Year          21897 non-null  int64  \n",
      " 3   Total         21897 non-null  float64\n",
      " 4   Coal          21897 non-null  float64\n",
      " 5   Oil           21897 non-null  float64\n",
      " 6   Gas           21897 non-null  float64\n",
      " 7   Cement        21897 non-null  float64\n",
      " 8   Flaring       21897 non-null  float64\n",
      " 9   Other         21897 non-null  float64\n",
      " 10  Per_Capita    21897 non-null  float64\n",
      "dtypes: float64(8), int64(1), object(2)\n",
      "memory usage: 2.0+ MB\n"
     ]
    }
   ],
   "source": [
    "# Looking at the dtypes of the csv file and dataset.\n",
    "df.info()"
   ]
  }
 ],
 "metadata": {
  "kernelspec": {
   "display_name": "Python 3 (ipykernel)",
   "language": "python",
   "name": "python3"
  },
  "language_info": {
   "codemirror_mode": {
    "name": "ipython",
    "version": 3
   },
   "file_extension": ".py",
   "mimetype": "text/x-python",
   "name": "python",
   "nbconvert_exporter": "python",
   "pygments_lexer": "ipython3",
   "version": "3.11.5"
  }
 },
 "nbformat": 4,
 "nbformat_minor": 5
}
